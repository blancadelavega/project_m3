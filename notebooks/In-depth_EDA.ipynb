{
 "cells": [
  {
   "cell_type": "code",
   "execution_count": null,
   "id": "57dfa8f6",
   "metadata": {},
   "outputs": [],
   "source": [
    "#imports\n",
    "import pandas as pd\n",
    "import numpy as np\n",
    "from scipy.stats import trim_mean \n",
    "from statsmodels import robust     \n",
    "import wquantiles                   \n",
    "\n",
    "import seaborn as sns\n",
    "import matplotlib.pylab as plt"
   ]
  },
  {
   "cell_type": "code",
   "execution_count": null,
   "id": "ecf8be21",
   "metadata": {},
   "outputs": [],
   "source": [
    "#Open Data\n",
    "data = pd.read_csv('../data/diamonds_train.csv')"
   ]
  },
  {
   "cell_type": "code",
   "execution_count": null,
   "id": "ef1addb2",
   "metadata": {},
   "outputs": [],
   "source": [
    "data.info()"
   ]
  },
  {
   "cell_type": "code",
   "execution_count": null,
   "id": "638a6142",
   "metadata": {},
   "outputs": [],
   "source": [
    "data.head()"
   ]
  },
  {
   "cell_type": "code",
   "execution_count": null,
   "id": "87904738",
   "metadata": {},
   "outputs": [],
   "source": [
    "data.describe()"
   ]
  },
  {
   "cell_type": "code",
   "execution_count": null,
   "id": "8cf44c48",
   "metadata": {},
   "outputs": [],
   "source": [
    "#Compruebo si mi DF tiene nulos\n",
    "data.isnull().sum()"
   ]
  },
  {
   "cell_type": "markdown",
   "id": "92129b59",
   "metadata": {},
   "source": [
    "## Data Types\n",
    "\n",
    "- __Variables numericas:__\n",
    "    - Continuas: price, carat, depth, table, x, y , z. \n",
    "    - Discretas: n/a\n",
    "\n",
    "\n",
    "- __Variables categoricas:__ \n",
    "    - Nominal: City\n",
    "    - Ordinal: cut, color, clarity\n"
   ]
  },
  {
   "cell_type": "markdown",
   "id": "a7fdd3fd",
   "metadata": {},
   "source": [
    "### Variables numericas"
   ]
  },
  {
   "cell_type": "code",
   "execution_count": null,
   "id": "5a389b0d",
   "metadata": {},
   "outputs": [],
   "source": [
    "data.describe()"
   ]
  },
  {
   "cell_type": "markdown",
   "id": "1fe07f86",
   "metadata": {},
   "source": [
    "#### Varibale Price\n",
    "**price as p"
   ]
  },
  {
   "cell_type": "code",
   "execution_count": null,
   "id": "b5a105c8",
   "metadata": {},
   "outputs": [],
   "source": [
    "# Mean\n",
    "mean_p = data['price'].mean()\n",
    "print('Mean of price:', mean_p)"
   ]
  },
  {
   "cell_type": "code",
   "execution_count": null,
   "id": "8c67fe1c",
   "metadata": {},
   "outputs": [],
   "source": [
    "# Trimmed mean \n",
    "tmean_p = trim_mean(data['price'], 0.1)\n",
    "print('Trimmed mean of price', tmean_p)"
   ]
  },
  {
   "cell_type": "code",
   "execution_count": null,
   "id": "23c162fc",
   "metadata": {},
   "outputs": [],
   "source": [
    "##Comparando medias = hay valores extremos"
   ]
  },
  {
   "cell_type": "code",
   "execution_count": null,
   "id": "93694185",
   "metadata": {},
   "outputs": [],
   "source": [
    "# Median\n",
    "median_p = data['price'].median()\n",
    "print('Median of price:', median_p)"
   ]
  },
  {
   "cell_type": "code",
   "execution_count": null,
   "id": "c513ace7",
   "metadata": {},
   "outputs": [],
   "source": [
    "##Hay valores extremos por arriba"
   ]
  },
  {
   "cell_type": "code",
   "execution_count": null,
   "id": "e1a1cabc",
   "metadata": {},
   "outputs": [],
   "source": [
    "#Desviation\n",
    "dev_p = data['price'].mean() - data['price']\n",
    "dev_P\n",
    "print('Price deviation', dev_p.sum())"
   ]
  },
  {
   "cell_type": "code",
   "execution_count": null,
   "id": "ad242421",
   "metadata": {},
   "outputs": [],
   "source": [
    "#Mean absolute deviation\n",
    "mean_dev_p = abs(data['price'].mean() - data['price'])\n",
    "mean_dev_p\n",
    "print('Price deviation:', mean_dev_p.sum() / len(mean_dev_p))"
   ]
  },
  {
   "cell_type": "code",
   "execution_count": null,
   "id": "9d71af7b",
   "metadata": {},
   "outputs": [],
   "source": [
    "#Variance \n",
    "var_p = (data['price'].mean() - data['price'])**2\n",
    "variance_p = var_p.sum() / (len(var_p) - 1)\n",
    "print('Variance of price:', variance_p)\n"
   ]
  },
  {
   "cell_type": "code",
   "execution_count": null,
   "id": "34f98f86",
   "metadata": {},
   "outputs": [],
   "source": [
    "# Standard deviation\n",
    "std_dev_p = data['price'].std()\n",
    "print('Standard deviation price:', std_dev_p)"
   ]
  },
  {
   "cell_type": "code",
   "execution_count": null,
   "id": "9b8ef425",
   "metadata": {},
   "outputs": [],
   "source": [
    "##=Los datos están muy dispersos"
   ]
  },
  {
   "cell_type": "code",
   "execution_count": null,
   "id": "22d70d87",
   "metadata": {},
   "outputs": [],
   "source": [
    "#Min & Max\n",
    "min_p = data['price'].min()\n",
    "max_p = data['price'].max()\n",
    "print('Max price:', max_p, '\\nMin price:', min_p)"
   ]
  },
  {
   "cell_type": "code",
   "execution_count": null,
   "id": "79b0fede",
   "metadata": {},
   "outputs": [],
   "source": [
    "# Range\n",
    "p_range = data['price'].max() - data['price'].min()\n",
    "print('Price range:', p_range)"
   ]
  },
  {
   "cell_type": "code",
   "execution_count": null,
   "id": "47d06414",
   "metadata": {},
   "outputs": [],
   "source": [
    "# Percentiles \n",
    "per_75 = data['price'].quantile(0.75)\n",
    "per_25 = data['price'].quantile(0.25)\n",
    "per_50 = data['price'].quantile(0.50)  \n",
    "print('Percentile 75th:', per_75, '\\nPercentile 25th:', per_25, '\\nPercentile 50th:', per_50)"
   ]
  },
  {
   "cell_type": "code",
   "execution_count": null,
   "id": "aa8d1e6f",
   "metadata": {},
   "outputs": [],
   "source": [
    "# Interquartile range\n",
    "iqr = per_75 - per_25\n",
    "print('Interquartile range:', iqr)"
   ]
  },
  {
   "cell_type": "code",
   "execution_count": null,
   "id": "e79d6b2c",
   "metadata": {},
   "outputs": [],
   "source": [
    "# Percentiles table (equal-count bins)\n",
    "\n",
    "percentages = [0.05, 0.25, 0.5, 0.75, 0.95]\n",
    "percentiles = data['price'].quantile(percentages)\n",
    "df = pd.DataFrame(percentiles)\n",
    "df.index = [f'{int(p * 100)}%' for p in percentages]\n",
    "df.transpose()"
   ]
  },
  {
   "cell_type": "code",
   "execution_count": null,
   "id": "a27eb68f",
   "metadata": {},
   "outputs": [],
   "source": [
    "# Boxplot \n",
    "\n",
    "data_p = data['price']\n",
    "ax = data_p.plot.box(figsize=(4, 6))\n",
    "plt.tight_layout()\n",
    "plt.grid()\n",
    "plt.show()"
   ]
  },
  {
   "cell_type": "code",
   "execution_count": null,
   "id": "3f4d883a",
   "metadata": {},
   "outputs": [],
   "source": [
    "# Histogram\n",
    "data_p = data['price']\n",
    "ax = data_p.plot.hist(figsize=(12, 8))\n",
    "plt.tight_layout()"
   ]
  },
  {
   "cell_type": "code",
   "execution_count": null,
   "id": "7e662d73",
   "metadata": {},
   "outputs": [],
   "source": [
    "ax = data_p.plot.hist(density=True,\n",
    "                    xlim=[0, 20000], \n",
    "                    figsize=(12, 8))\n",
    "data_p.plot.density(ax=ax)\n",
    "plt.tight_layout()"
   ]
  },
  {
   "cell_type": "markdown",
   "id": "b2c0447d",
   "metadata": {},
   "source": [
    "#### Variable carat"
   ]
  },
  {
   "cell_type": "code",
   "execution_count": null,
   "id": "6ebf2ca1",
   "metadata": {},
   "outputs": [],
   "source": [
    "# Mean\n",
    "mean_carat = data['carat'].mean()\n",
    "print('Mean of carat:', mean_carat)"
   ]
  },
  {
   "cell_type": "code",
   "execution_count": null,
   "id": "61cec3f1",
   "metadata": {},
   "outputs": [],
   "source": [
    "# Trimmed mean \n",
    "tmean_carat = trim_mean(data['carat'], 0.1)\n",
    "print('Trimmed mean of carat', tmean_carat)"
   ]
  },
  {
   "cell_type": "code",
   "execution_count": null,
   "id": "9b93b7a0",
   "metadata": {},
   "outputs": [],
   "source": [
    "# Median\n",
    "median_carat = data['carat'].median()\n",
    "print('Median of carat:', median_carat)"
   ]
  },
  {
   "cell_type": "code",
   "execution_count": null,
   "id": "9eeb6eab",
   "metadata": {},
   "outputs": [],
   "source": [
    "#Desviation\n",
    "dev_carat = data['carat'].mean() - data['carat']\n",
    "dev_carat\n",
    "print('Carat deviation', dev_carat.sum())"
   ]
  },
  {
   "cell_type": "code",
   "execution_count": null,
   "id": "553d94f5",
   "metadata": {},
   "outputs": [],
   "source": [
    "#Mean absolute deviation\n",
    "mean_dev_carat = abs(data['carat'].mean() - data['carat'])\n",
    "mean_dev_carat\n",
    "print('Carat desviation:', mean_dev_carat.sum() / len(mean_dev_carat))"
   ]
  },
  {
   "cell_type": "code",
   "execution_count": null,
   "id": "c56e3278",
   "metadata": {},
   "outputs": [],
   "source": [
    "#Variance \n",
    "var_carat = (data['carat'].mean() - data['carat'])**2\n",
    "variance_carat = var_carat.sum() / (len(var_carat) - 1)\n",
    "print('Variance of carat:', variance_carat)"
   ]
  },
  {
   "cell_type": "code",
   "execution_count": null,
   "id": "8f2e1b8e",
   "metadata": {},
   "outputs": [],
   "source": [
    "# Standard deviation\n",
    "std_dev_carat = data['carat'].std()\n",
    "print('Standard deviation carat:', std_dev_carat)"
   ]
  },
  {
   "cell_type": "code",
   "execution_count": null,
   "id": "747ebbf0",
   "metadata": {},
   "outputs": [],
   "source": [
    "#Min & Max\n",
    "min_carat = data['carat'].min()\n",
    "max_carat = data['carat'].max()\n",
    "print('Max carat:', max_carat, '\\nMin carat:', min_carat)"
   ]
  },
  {
   "cell_type": "code",
   "execution_count": null,
   "id": "771aa206",
   "metadata": {},
   "outputs": [],
   "source": [
    "# Range\n",
    "carat_range = max_carat - min_carat\n",
    "print('Carat range:', carat_range)"
   ]
  },
  {
   "cell_type": "code",
   "execution_count": null,
   "id": "865c82d4",
   "metadata": {},
   "outputs": [],
   "source": [
    "# Percentiles table (equal-count bins)\n",
    "\n",
    "percentages = [0.05, 0.25, 0.5, 0.75, 0.95]\n",
    "percentiles = data['carat'].quantile(percentages)\n",
    "df = pd.DataFrame(percentiles)\n",
    "df.index = [f'{int(p * 100)}%' for p in percentages]\n",
    "df.transpose()"
   ]
  },
  {
   "cell_type": "code",
   "execution_count": null,
   "id": "106c2674",
   "metadata": {},
   "outputs": [],
   "source": [
    "# Interquartile range\n",
    "per_75 = 1.04\n",
    "per_25 = 0.4\n",
    "iqr = per_75 - per_25\n",
    "print('Interquartile range:', iqr)"
   ]
  },
  {
   "cell_type": "code",
   "execution_count": null,
   "id": "0286c44b",
   "metadata": {},
   "outputs": [],
   "source": [
    "# Boxplot (Matplotlib whiskers implementation = 1.5 IQR)\n",
    "\n",
    "data_carat = data['carat']\n",
    "ax = data_carat.plot.box(figsize=(4, 6))\n",
    "plt.tight_layout()\n",
    "plt.grid()\n",
    "plt.show()"
   ]
  },
  {
   "cell_type": "code",
   "execution_count": null,
   "id": "b1c7cc8c",
   "metadata": {},
   "outputs": [],
   "source": [
    "# Histogram\n",
    "data_carat = data['carat']\n",
    "ax = data_carat.plot.hist(figsize=(12, 8))\n",
    "plt.tight_layout()"
   ]
  },
  {
   "cell_type": "code",
   "execution_count": null,
   "id": "162bcbe6",
   "metadata": {},
   "outputs": [],
   "source": [
    "ax = data_carat.plot.hist(density=True,\n",
    "                    xlim=[0, 3], \n",
    "                    figsize=(12, 8))\n",
    "data_carat.plot.density(ax=ax)\n",
    "plt.tight_layout()"
   ]
  },
  {
   "cell_type": "markdown",
   "id": "b15b5b01",
   "metadata": {},
   "source": [
    "#### Varibale depth"
   ]
  },
  {
   "cell_type": "code",
   "execution_count": null,
   "id": "2382710c",
   "metadata": {},
   "outputs": [],
   "source": [
    "# Mean\n",
    "mean_depth = data['depth'].mean()\n",
    "print('Mean of depth:', mean_depth)"
   ]
  },
  {
   "cell_type": "code",
   "execution_count": null,
   "id": "3a9adef6",
   "metadata": {},
   "outputs": [],
   "source": [
    "# Trimmed mean \n",
    "tmean_depth = trim_mean(data['depth'], 0.1)\n",
    "print('Trimmed mean of depth', tmean_depth)"
   ]
  },
  {
   "cell_type": "code",
   "execution_count": null,
   "id": "afb6ae12",
   "metadata": {},
   "outputs": [],
   "source": [
    "# Median\n",
    "median_depth = data['depth'].median()\n",
    "print('Median of depth:', median_depth)"
   ]
  },
  {
   "cell_type": "code",
   "execution_count": null,
   "id": "66030d5a",
   "metadata": {},
   "outputs": [],
   "source": [
    "# Standard deviation\n",
    "std_dev_depth = data['depth'].std()\n",
    "print('Standard deviation depth:', std_dev_depth)"
   ]
  },
  {
   "cell_type": "code",
   "execution_count": null,
   "id": "6850b788",
   "metadata": {},
   "outputs": [],
   "source": [
    "#Min & Max\n",
    "min_depth = data['depth'].min()\n",
    "max_depth = data['depth'].max()\n",
    "print('Max depth:', max_depth, '\\nMin depth:', min_depth)"
   ]
  },
  {
   "cell_type": "code",
   "execution_count": null,
   "id": "62d74d28",
   "metadata": {},
   "outputs": [],
   "source": [
    "# Range\n",
    "depth_range = max_depth - min_depth\n",
    "print('Depth range:', depth_range)"
   ]
  },
  {
   "cell_type": "code",
   "execution_count": null,
   "id": "f0445d5c",
   "metadata": {},
   "outputs": [],
   "source": [
    "# Percentiles table (equal-count bins)\n",
    "\n",
    "percentages = [0.05, 0.25, 0.5, 0.75, 0.95]\n",
    "percentiles = data['depth'].quantile(percentages)\n",
    "df = pd.DataFrame(percentiles)\n",
    "df.index = [f'{int(p * 100)}%' for p in percentages]\n",
    "df.transpose()"
   ]
  },
  {
   "cell_type": "code",
   "execution_count": null,
   "id": "27a513ee",
   "metadata": {},
   "outputs": [],
   "source": [
    "# Interquartile range\n",
    "per_75 = 62.5\n",
    "per_25 = 61.0\n",
    "iqr = per_75 - per_25\n",
    "print('Interquartile range:', iqr)"
   ]
  },
  {
   "cell_type": "code",
   "execution_count": null,
   "id": "86c06abf",
   "metadata": {},
   "outputs": [],
   "source": [
    "# Boxplot (Matplotlib whiskers implementation = 1.5 IQR)\n",
    "\n",
    "data_depth = data['depth']\n",
    "ax = data_depth.plot.box(figsize=(4, 6))\n",
    "plt.tight_layout()\n",
    "plt.grid()\n",
    "plt.show()"
   ]
  },
  {
   "cell_type": "code",
   "execution_count": null,
   "id": "e6df32eb",
   "metadata": {},
   "outputs": [],
   "source": [
    "# Histogram\n",
    "data_depth = data['depth']\n",
    "ax = data_depth.plot.hist(figsize=(12, 8))\n",
    "plt.tight_layout()"
   ]
  },
  {
   "cell_type": "markdown",
   "id": "b9d889f4",
   "metadata": {},
   "source": [
    "#### Variable table"
   ]
  },
  {
   "cell_type": "code",
   "execution_count": null,
   "id": "5f85bf54",
   "metadata": {},
   "outputs": [],
   "source": [
    "# Mean\n",
    "mean_table = data['table'].mean()\n",
    "print('Mean of table:', mean_table)"
   ]
  },
  {
   "cell_type": "code",
   "execution_count": null,
   "id": "d4d018f2",
   "metadata": {},
   "outputs": [],
   "source": [
    "# Trimmed mean \n",
    "tmean_table = trim_mean(data['table'], 0.1)\n",
    "print('Trimmed mean of table', tmean_table)"
   ]
  },
  {
   "cell_type": "code",
   "execution_count": null,
   "id": "ab81c7af",
   "metadata": {},
   "outputs": [],
   "source": [
    "# Median\n",
    "median_table = data['table'].median()\n",
    "print('Median of table:', median_table)"
   ]
  },
  {
   "cell_type": "code",
   "execution_count": null,
   "id": "89f42a1d",
   "metadata": {},
   "outputs": [],
   "source": [
    "# Standard deviation\n",
    "std_dev_table = data['table'].std()\n",
    "print('Standard deviation table:', std_dev_table)"
   ]
  },
  {
   "cell_type": "code",
   "execution_count": null,
   "id": "a1b210ef",
   "metadata": {},
   "outputs": [],
   "source": [
    "#Min & Max\n",
    "min_table = data['table'].min()\n",
    "max_table = data['table'].max()\n",
    "print('Max table:', max_table, '\\nMin table:', min_table)"
   ]
  },
  {
   "cell_type": "code",
   "execution_count": null,
   "id": "3fe92af3",
   "metadata": {},
   "outputs": [],
   "source": [
    "# Range\n",
    "table_range = max_table - min_table\n",
    "print('Table range:', table_range)"
   ]
  },
  {
   "cell_type": "code",
   "execution_count": null,
   "id": "368146b1",
   "metadata": {},
   "outputs": [],
   "source": [
    "# Percentiles table \n",
    "\n",
    "percentages = [0.05, 0.25, 0.5, 0.75, 0.95]\n",
    "percentiles = data['table'].quantile(percentages)\n",
    "df = pd.DataFrame(percentiles)\n",
    "df.index = [f'{int(p * 100)}%' for p in percentages]\n",
    "df.transpose()"
   ]
  },
  {
   "cell_type": "code",
   "execution_count": null,
   "id": "2fb246f6",
   "metadata": {},
   "outputs": [],
   "source": [
    "# Interquartile range\n",
    "per_75 = 59.0\n",
    "per_25 = 56.0\n",
    "iqr = per_75 - per_25\n",
    "print('Interquartile range:', iqr)"
   ]
  },
  {
   "cell_type": "code",
   "execution_count": null,
   "id": "414736ec",
   "metadata": {},
   "outputs": [],
   "source": [
    "# Boxplot \n",
    "\n",
    "data_table = data['table']\n",
    "ax = data_table.plot.box(figsize=(4, 6))\n",
    "plt.tight_layout()\n",
    "plt.grid()\n",
    "plt.show()"
   ]
  },
  {
   "cell_type": "code",
   "execution_count": null,
   "id": "ef36bf68",
   "metadata": {},
   "outputs": [],
   "source": [
    "# Histogram\n",
    "data_table = data['table']\n",
    "ax = data_table.plot.hist(figsize=(8, 8))\n",
    "plt.tight_layout()"
   ]
  }
 ],
 "metadata": {
  "kernelspec": {
   "display_name": "Python [conda env:m2_env]",
   "language": "python",
   "name": "conda-env-m2_env-py"
  },
  "language_info": {
   "codemirror_mode": {
    "name": "ipython",
    "version": 3
   },
   "file_extension": ".py",
   "mimetype": "text/x-python",
   "name": "python",
   "nbconvert_exporter": "python",
   "pygments_lexer": "ipython3",
   "version": "3.10.15"
  }
 },
 "nbformat": 4,
 "nbformat_minor": 5
}
