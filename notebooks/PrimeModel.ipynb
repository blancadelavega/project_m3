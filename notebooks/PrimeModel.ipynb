{
 "cells": [
  {
   "cell_type": "code",
   "execution_count": null,
   "id": "f9ba59d6",
   "metadata": {},
   "outputs": [],
   "source": [
    "# imports \n",
    "\n",
    "import numpy as np\n",
    "import pandas as pd\n",
    "\n",
    "from sklearn.model_selection import train_test_split\n",
    "import joblib\n",
    "\n",
    "from sklearn.linear_model import LinearRegression\n",
    "from sklearn.ensemble import RandomForestRegressor\n",
    "from sklearn.ensemble import GradientBoostingRegressor\n",
    "\n",
    "from sklearn.model_selection import cross_val_score\n",
    "\n",
    "from sklearn.preprocessing import LabelEncoder\n",
    "\n",
    "from sklearn.metrics import root_mean_squared_error\n",
    "from sklearn.model_selection import GridSearchCV\n",
    "from sklearn.model_selection import RandomizedSearchCV"
   ]
  },
  {
   "cell_type": "code",
   "execution_count": null,
   "id": "c0ab2350",
   "metadata": {},
   "outputs": [],
   "source": [
    "# Load the data \n",
    "data = pd.read_csv('../data/diamonds_train.csv')"
   ]
  },
  {
   "cell_type": "code",
   "execution_count": null,
   "id": "87f0e2cd",
   "metadata": {},
   "outputs": [],
   "source": [
    "# Create 'volume' variable\n",
    "data['volume'] = data['x'] * data['y'] * data['z']\n",
    "\n",
    "# To avoid errors when creating 'density' by dividing by 0\n",
    "data[\"volume\"] = data[\"volume\"].replace(0, np.nan) # Replace 0 values with NaN\n",
    "data[\"volume\"] = data[\"volume\"].fillna(data[\"volume\"].median()) # Replace NaN with the median\n",
    "\n",
    "# Create 'density' variable\n",
    "data['density'] = data[\"carat\"] / data[\"volume\"]"
   ]
  },
  {
   "cell_type": "code",
   "execution_count": null,
   "id": "d06399c7",
   "metadata": {},
   "outputs": [],
   "source": [
    "# Encoding categorical variables\n",
    "cat_cols = ['cut', 'color', 'clarity']    \n",
    "label_encoders = {}\n",
    "for col in cat_cols:\n",
    "    le = LabelEncoder()\n",
    "    data[col] = le.fit_transform(data[col])\n",
    "    label_encoders[col] = le "
   ]
  },
  {
   "cell_type": "code",
   "execution_count": null,
   "id": "d24cbf0b",
   "metadata": {},
   "outputs": [],
   "source": [
    "#Features & Target\n",
    "\n",
    "X = data[['carat', 'depth', 'table', 'density','cut', 'color', 'clarity']]  #Features\n",
    "y = data[\"price\"]                 #Target"
   ]
  },
  {
   "cell_type": "code",
   "execution_count": null,
   "id": "bf530b81",
   "metadata": {},
   "outputs": [],
   "source": [
    "# Apply Grid Search to improve the selected model\n",
    "\n",
    "model = RandomForestRegressor(random_state = 42)\n",
    "\n",
    "param_grid = {'n_estimators': [100, 200, 300],  # Number of trees in the forest.\n",
    "              'max_depth': [None, 3, 10],  # Maximum depth of the trees.\n",
    "              'min_samples_split': [2, 10],  # Minimum number of samples required to split an internal node.\n",
    "              'min_samples_leaf': [1, 4],  # Minimum number of samples required to be at a leaf node.\n",
    "              'max_features': [None, 'sqrt', 'log2']  # Number of features to consider when looking for the best split.\n",
    "              }\n",
    "\n",
    "grid_search = GridSearchCV(model,\n",
    "                           param_grid,\n",
    "                           cv=5,\n",
    "                           verbose=3,\n",
    "                           scoring='neg_root_mean_squared_error',\n",
    "                           n_jobs=-1)\n",
    "\n",
    "# Model training and evaluation\n",
    "grid_search.fit(X,y)\n",
    "\n",
    "print('\\n')\n",
    "print('Best hyperparameters: ', grid_search.best_params_, '\\n')\n",
    "print('Best score: ', -grid_search.best_score_, '\\n')"
   ]
  },
  {
   "cell_type": "code",
   "execution_count": null,
   "id": "5e9e9e0c",
   "metadata": {},
   "outputs": [],
   "source": [
    "# Save the trained model\n",
    "joblib.dump(grid_search.best_estimator_, 'PrimeModel.pkl')"
   ]
  },
  {
   "cell_type": "markdown",
   "id": "4d29c35e",
   "metadata": {},
   "source": [
    "TEST TIME"
   ]
  },
  {
   "cell_type": "code",
   "execution_count": null,
   "id": "f57ce749",
   "metadata": {},
   "outputs": [],
   "source": [
    "# Load test data\n",
    "test = pd.read_csv('../data/diamonds_test.csv')"
   ]
  },
  {
   "cell_type": "code",
   "execution_count": null,
   "id": "e5dfa1a1",
   "metadata": {},
   "outputs": [],
   "source": [
    "# Create 'volume' variable\n",
    "test['volume'] = test['x'] * test['y'] * test['z']\n",
    "\n",
    "# To avoid errors when creating 'density' by dividing by 0\n",
    "test['volume'] = test['volume'].replace(0, np.nan) \n",
    "test['volume'] = test['volume'].fillna(test['volume'].median())\n",
    "\n",
    "# Create 'density' variable\n",
    "test['density'] =test[\"carat\"] / test[\"volume\"]"
   ]
  },
  {
   "cell_type": "code",
   "execution_count": null,
   "id": "3c5d66b3",
   "metadata": {},
   "outputs": [],
   "source": [
    "# Encoding categorical variables\n",
    "cat_cols = ['cut', 'color', 'clarity']\n",
    "label_encoders = {}\n",
    "for col in cat_cols:\n",
    "    test[col] = label_encoders[col].transform(test[col])"
   ]
  },
  {
   "cell_type": "code",
   "execution_count": null,
   "id": "effb0395",
   "metadata": {},
   "outputs": [],
   "source": [
    "#Chose variables for test\n",
    "test = test[['carat', 'depth', 'table', 'density','cut', 'color', 'clarity']]"
   ]
  },
  {
   "cell_type": "code",
   "execution_count": null,
   "id": "7b34175a",
   "metadata": {},
   "outputs": [],
   "source": [
    "# Load the previously saved model\n",
    "modelo = joblib.load('PrimeModel.pkl')"
   ]
  },
  {
   "cell_type": "code",
   "execution_count": null,
   "id": "129a8656",
   "metadata": {},
   "outputs": [],
   "source": [
    "# Make predictions on the test data\n",
    "y_pred = modelo.predict(test)\n",
    "print(y_pred)\n",
    "type(y_pred)"
   ]
  },
  {
   "cell_type": "code",
   "execution_count": null,
   "id": "d687f619",
   "metadata": {},
   "outputs": [],
   "source": [
    "# Create a DataFrame for submission (+ids)\n",
    "\n",
    "ids = np.arange(len(y_pred))\n",
    "submission_df = pd.DataFrame({\n",
    "    'id': ids,\n",
    "    'price': y_pred\n",
    "})"
   ]
  },
  {
   "cell_type": "code",
   "execution_count": null,
   "id": "a80dd50c",
   "metadata": {},
   "outputs": [],
   "source": [
    "#Save into .csv\n",
    "submission_df.to_csv('../data/sample_submissions/PrimeModel.csv', index=False)\n"
   ]
  }
 ],
 "metadata": {
  "kernelspec": {
   "display_name": "Python [conda env:sklearn-env]",
   "language": "python",
   "name": "conda-env-sklearn-env-py"
  },
  "language_info": {
   "codemirror_mode": {
    "name": "ipython",
    "version": 3
   },
   "file_extension": ".py",
   "mimetype": "text/x-python",
   "name": "python",
   "nbconvert_exporter": "python",
   "pygments_lexer": "ipython3",
   "version": "3.13.1"
  }
 },
 "nbformat": 4,
 "nbformat_minor": 5
}
