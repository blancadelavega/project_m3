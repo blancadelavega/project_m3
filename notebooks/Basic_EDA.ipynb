{
 "cells": [
  {
   "cell_type": "code",
   "execution_count": null,
   "id": "24ea1069",
   "metadata": {},
   "outputs": [],
   "source": [
    "# imports\n",
    "\n",
    "import numpy as np\n",
    "import pandas as pd\n",
    "pd.options.mode.copy_on_write = True \n",
    "# https://pandas.pydata.org/pandas-docs/stable/user_guide/indexing.html#returning-a-view-versus-a-copy\n",
    "\n",
    "\n",
    "import seaborn as sns\n",
    "import matplotlib.pyplot as plt"
   ]
  },
  {
   "cell_type": "code",
   "execution_count": null,
   "id": "b972d6ed",
   "metadata": {},
   "outputs": [],
   "source": [
    "data = pd.read_csv('../data/diamonds_train.csv')"
   ]
  },
  {
   "cell_type": "code",
   "execution_count": null,
   "id": "e8f25152",
   "metadata": {},
   "outputs": [],
   "source": [
    "data.head()"
   ]
  },
  {
   "cell_type": "code",
   "execution_count": null,
   "id": "c3459fc8",
   "metadata": {},
   "outputs": [],
   "source": [
    "data.info()    #no hay nulos"
   ]
  },
  {
   "cell_type": "code",
   "execution_count": null,
   "id": "6f5201d4",
   "metadata": {},
   "outputs": [],
   "source": [
    "data.describe()"
   ]
  },
  {
   "cell_type": "code",
   "execution_count": null,
   "id": "30108259",
   "metadata": {},
   "outputs": [],
   "source": [
    "#Distribucion de variables\n",
    "\n",
    "sns.set_style(\"whitegrid\")\n",
    "\n",
    "# Histograma de variables numéricas\n",
    "data.hist(figsize=(12, 8), bins=30, edgecolor='black')\n",
    "plt.show()\n",
    "\n",
    "# Boxplots para detectar outliers\n",
    "plt.figure(figsize=(12, 6))\n",
    "sns.boxplot(data=data)\n",
    "plt.xticks(rotation=90)\n",
    "plt.show()\n"
   ]
  },
  {
   "cell_type": "markdown",
   "id": "0aa6b9d2",
   "metadata": {},
   "source": [
    "## Data Types\n",
    "\n",
    "- __Variables numericas:__\n",
    "    - Continuas: price, carat, depth, table, x, y , z. \n",
    "    - Discretas: n/a\n",
    "\n",
    "\n",
    "- __Variables categoricas:__ \n",
    "    - Nominal: City\n",
    "    - Ordinal: cut, color, clarity\n"
   ]
  },
  {
   "cell_type": "code",
   "execution_count": null,
   "id": "bcbce6dc",
   "metadata": {},
   "outputs": [],
   "source": [
    "#Tipo de variables\n",
    "numericas = data[[\"carat\",\"price\",\"depth\",\"table\",\"x\",\"y\",\"z\"]]\n",
    "categoricas = data[[\"city\",\"cut\",\"color\",\"clarity\"]]"
   ]
  },
  {
   "cell_type": "markdown",
   "id": "69fb463f",
   "metadata": {},
   "source": [
    "### Variables numericas"
   ]
  },
  {
   "cell_type": "code",
   "execution_count": null,
   "id": "91622fff",
   "metadata": {},
   "outputs": [],
   "source": [
    "#Correlación entre variables numericas\n",
    "correlacion = numericas.corr()\n",
    "\n",
    "plt.figure(figsize=(8, 6))\n",
    "sns.heatmap(correlacion, annot=True, cmap='coolwarm', vmin=-1, vmax=1)\n",
    "plt.title('Matriz de Correlación')\n",
    "plt.legend(['Correlación'], loc='upper right')\n",
    "plt.show()"
   ]
  },
  {
   "cell_type": "code",
   "execution_count": null,
   "id": "3dc09ca1",
   "metadata": {},
   "outputs": [],
   "source": []
  }
 ],
 "metadata": {
  "kernelspec": {
   "display_name": "Python (m2_env -Blanca)",
   "language": "python",
   "name": "m2_env"
  },
  "language_info": {
   "codemirror_mode": {
    "name": "ipython",
    "version": 3
   },
   "file_extension": ".py",
   "mimetype": "text/x-python",
   "name": "python",
   "nbconvert_exporter": "python",
   "pygments_lexer": "ipython3",
   "version": "3.10.15"
  }
 },
 "nbformat": 4,
 "nbformat_minor": 5
}
